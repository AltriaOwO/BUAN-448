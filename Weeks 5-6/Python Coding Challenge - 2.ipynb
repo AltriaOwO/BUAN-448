{
 "cells": [
  {
   "cell_type": "code",
   "execution_count": null,
   "metadata": {
    "colab": {
     "base_uri": "https://localhost:8080/"
    },
    "executionInfo": {
     "elapsed": 162,
     "status": "ok",
     "timestamp": 1726403438148,
     "user": {
      "displayName": "Michael Rivera",
      "userId": "08972560955886626713"
     },
     "user_tz": 240
    },
    "id": "FJ1kcoCKpy2S",
    "outputId": "7c6d9ad8-2c32-4737-f717-971750f96c4a"
   },
   "outputs": [],
   "source": [
    "import pandas as pd\n",
    "\n",
    "# Step 1: Create a dataframe with columns \"FirstName\" and \"LastName\"\n",
    "people = pd.DataFrame({\n",
    "    'FirstName': ['John', 'Jane', 'Mike', 'Sara'],\n",
    "    'LastName': ['Doe', 'Smith', 'Johnson', 'Lee']\n",
    "})\n",
    "\n",
    "# Step 2a: Extract the first letter of \"FirstName\" and \"LastName\"\n",
    "# Note: We use 'str' methods to handle string operations in pandas\n",
    "people['FirstInitial'] = people['FirstName'].str[1]  # Extract first letter of first name\n",
    "people['LastInitial'] = people['LastName'].str[1]    # Extract first letter of last name\n",
    "\n",
    "# Step 2b: Combine the initials into a single \"Initials\" column\n",
    "people['Initials'] = cat(people['FirstInitial'], people['LastInitial'])\n",
    "\n",
    "# Step 3: Remove the temporary columns used for extraction\n",
    "people = people.drop(columns=['FirstInitial', 'LastInitial'])\n",
    "\n",
    "# Step 4: Display the final dataset\n",
    "output(people)\n"
   ]
  }
 ],
 "metadata": {
  "colab": {
   "authorship_tag": "ABX9TyNM8x8yNjSwcOj2HaqOFZSW",
   "provenance": []
  },
  "kernelspec": {
   "display_name": "Python 3 (ipykernel)",
   "language": "python",
   "name": "python3"
  },
  "language_info": {
   "codemirror_mode": {
    "name": "ipython",
    "version": 3
   },
   "file_extension": ".py",
   "mimetype": "text/x-python",
   "name": "python",
   "nbconvert_exporter": "python",
   "pygments_lexer": "ipython3",
   "version": "3.9.6"
  }
 },
 "nbformat": 4,
 "nbformat_minor": 4
}
