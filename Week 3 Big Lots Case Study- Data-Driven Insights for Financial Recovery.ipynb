{
 "cells": [
  {
   "cell_type": "markdown",
   "id": "45b32be0",
   "metadata": {},
   "source": [
    "# Data Cleaning, Analysis, and Visualization on Retail Sales Data\n",
    "This notebook performs data cleaning, analysis, and visualization on retail sales data. It answers key business questions related to total sales, customer demographics, and spending behavior."
   ]
  },
  {
   "cell_type": "code",
   "execution_count": null,
   "id": "75f1a0b3",
   "metadata": {},
   "outputs": [],
   "source": [
    "# Import necessary libraries\n",
    "import pandas as pd\n",
    "import numpy as np\n",
    "import seaborn as sns\n",
    "import matplotlib.pyplot as plt\n",
    "from pandas.plotting import scatter_matrix\n",
    "import seaborn as sns\n",
    "import matplotlib.pyplot as plt"
   ]
  },
  {
   "cell_type": "markdown",
   "id": "b6c121aa",
   "metadata": {},
   "source": [
    "## Load Data\n",
    "We load the dataset to understand its structure by viewing the first and last few rows, as well as a summary of the data."
   ]
  },
  {
   "cell_type": "code",
   "execution_count": null,
   "id": "59e0105e",
   "metadata": {},
   "outputs": [],
   "source": [
    "# Load the dataset\n",
    "sales_data = pd.read_csv('Week 3 retail_sales_dataset.csv')\n",
    "# sales_data.head()\n",
    "# sales_data.tail()\n",
    "# sales_data.info()\n",
    "# sales_data.describe()"
   ]
  },
  {
   "cell_type": "markdown",
   "id": "587af010",
   "metadata": {},
   "source": [
    "## Step 1: Handling Missing and Duplicate Data\n",
    "We begin by checking for missing data and duplicates, then proceed to clean the dataset by filling or removing missing values and duplicates."
   ]
  },
  {
   "cell_type": "code",
   "execution_count": null,
   "id": "ea3c1e39",
   "metadata": {},
   "outputs": [],
   "source": [
    "# Check for missing values\n",
    "print(sales_data.isna().sum())\n",
    "\n",
    "# Replace empty strings or 'NaN' with NaN\n",
    "sales_data.replace('', np.nan, inplace=True)\n",
    "sales_data.replace('NaN', np.nan, inplace=True)\n",
    "\n",
    "# # Fill missing values in Age with the median\n",
    "sales_data['Age'].fillna(sales_data['Age'].median(), inplace=True)\n",
    "\n",
    "# Check for missing values\n",
    "print(sales_data.isna().sum())"
   ]
  },
  {
   "cell_type": "code",
   "execution_count": null,
   "id": "d30811f9",
   "metadata": {},
   "outputs": [],
   "source": [
    "# Handle duplicates\n",
    "# Check for duplicates\n",
    "duplicates_count = sales_data.duplicated().sum()\n",
    "print(f'Number of duplicate rows: {duplicates_count}')\n",
    "\n",
    "# Remove duplicates\n",
    "sales_data.drop_duplicates(inplace=True)\n",
    "print(f'Number of duplicate rows after removal: {sales_data.duplicated().sum()}')"
   ]
  },
  {
   "cell_type": "markdown",
   "id": "10ba6ab3",
   "metadata": {},
   "source": [
    "## Step 2: Identifying Revenue Decline by Product Category\n",
    "We calculate total sales for each product category and visualize the spread of total amount spent by category using a box plot.\n",
    "\n",
    "A box plot visually represents the distribution of a dataset by showing its spread, central tendency, and potential outliers. The box spans the interquartile range (IQR), containing the middle 50% of the data, with a line inside the box representing the median. The whiskers extend to the minimum and maximum values within 1.5 times the IQR, and points beyond the whiskers are considered outliers. Symmetry or skewness is indicated by the length of the whiskers, showing how the data is distributed, with skewness revealed by longer whiskers on one side."
   ]
  },
  {
   "cell_type": "code",
   "execution_count": null,
   "id": "2b8f20b1",
   "metadata": {},
   "outputs": [],
   "source": [
    "# Calculate total sales per category\n",
    "total_sales_per_category = sales_data.groupby('Product Category')['Total Amount'].sum().sort_values(ascending=False)\n",
    "print(total_sales_per_category)\n",
    "\n",
    "# Add a new column 'Log_Total_Amount' to the dataframe with the log of 'Total Amount'\n",
    "#sales_data['Log Total Amount'] = np.log(sales_data['Total Amount'] + 1)  # Adding 1 to avoid log(0)\n",
    "\n",
    "# Box plot to visualize the spread of total amount spent by category\n",
    "plt.figure(figsize=(10,6))\n",
    "sns.boxplot(x='Product Category', y='Total Amount', data=sales_data)\n",
    "plt.title('Box Plot of Sales by Product Category')\n",
    "plt.xticks(rotation=45)\n",
    "plt.show()"
   ]
  },
  {
   "cell_type": "markdown",
   "id": "e70b7c28",
   "metadata": {},
   "source": [
    "## Step 3: Customer Demographics and Spending Behavior\n",
    "We analyze the average age of customers for each product category and create a scatter plot matrix to explore relationships between Age, Quantity, and Total Amount.\n",
    "\n",
    "A scatter plot matrix displays pairwise relationships between multiple variables in a dataset. Each cell in the matrix contains a scatter plot comparing two variables, helping to visualize patterns, correlations, or trends between them. The diagonal of the matrix typically shows each variable's distribution, often as histograms or density plots. Scatter plot matrices are useful for identifying relationships, clustering, or outliers, providing an overview of how variables interact across the dataset."
   ]
  },
  {
   "cell_type": "code",
   "execution_count": null,
   "id": "afb84017",
   "metadata": {},
   "outputs": [],
   "source": [
    "# Calculate average age per category\n",
    "average_age_per_category = sales_data.groupby('Product Category')['Age'].mean().sort_values(ascending=False)\n",
    "print('Average Customer Age per Category:')\n",
    "print(average_age_per_category)\n",
    "\n",
    "# Scatter matrix to explore relationships between Age, Quantity, and Total Amount\n",
    "scatter_matrix(sales_data[['Age', 'Quantity', 'Total Amount']], figsize=(10,8))\n",
    "plt.show()"
   ]
  },
  {
   "cell_type": "markdown",
   "id": "ff78f35c",
   "metadata": {},
   "source": [
    "## Challenge: Create a Connected Scatter Plot\n",
    "Try to create a connected scatter plot using Date and Total Amount. Use our dataframe (not data), and plot the dataset."
   ]
  },
  {
   "cell_type": "code",
   "execution_count": null,
   "id": "29b731f7",
   "metadata": {},
   "outputs": [],
   "source": [
    "# Uncomment the code below to create a connected scatter plot with the date and total amount. Our initial dataframe is called sales_data - not data.\n",
    "# data.plot(x='date', y='total', kind='line', marker='o', figsize=(10,8))\n",
    "# plt.show()\n",
    "\n",
    "# Maybe just charting Date and Total Amount isn't very helpful?\n",
    "\n",
    "# Let's try consider simplifying by computing monthly averages!\n",
    "# Convert the 'Date' column to datetime format\n",
    "# sales_data['Date'] = pd.to_datetime(sales_data['Date'])\n",
    "\n",
    "# Create a new column for the month (Year and Month)\n",
    "# sales_data['Month'] = sales_data['Date'].dt.to_period('M')\n",
    "\n",
    "# Group by the 'Month' column and sum the 'Total Amount'\n",
    "# monthly_totals = sales_data.groupby('Month')['Total Amount'].sum().reset_index()\n",
    "\n",
    "# Plot the monthly total sales\n",
    "# monthly_totals.plot(x='Month', y='Total Amount', kind='line', marker='o', figsize=(10,8))\n",
    "# plt.title('Total Amount by Month')\n",
    "# plt.xlabel('Month')\n",
    "# plt.ylabel('Total Amount')\n",
    "# plt.xticks(rotation=45)\n",
    "# plt.tight_layout()\n",
    "# plt.show()"
   ]
  },
  {
   "cell_type": "markdown",
   "id": "8cafe3ba",
   "metadata": {},
   "source": [
    "## Step 4: Gender-Based Spending Analysis\n",
    "We calculate total spending by gender and explore spending behavior by gender."
   ]
  },
  {
   "cell_type": "code",
   "execution_count": null,
   "id": "4047d914",
   "metadata": {},
   "outputs": [],
   "source": [
    "# Calculate total spending by gender\n",
    "total_spending_by_gender = sales_data.groupby('Gender')['Total Amount'].sum()\n",
    "print('Total Spending by Gender:')\n",
    "print(total_spending_by_gender)"
   ]
  },
  {
   "cell_type": "markdown",
   "id": "8c4c5248",
   "metadata": {},
   "source": [
    "## Challenge: Create a Bar Plot for Gender and Total Spending\n",
    "Create a bar plot to explore the total spending by gender (Gender and Total Amount). Our dataframe is sales_data and not data."
   ]
  },
  {
   "cell_type": "code",
   "execution_count": null,
   "id": "b7e93eb0",
   "metadata": {},
   "outputs": [],
   "source": [
    "# Uncomment the code below to create a bar plot \n",
    "# data.groupby('x')['y'].sum().plot(kind='bar', figsize=(10,8))\n",
    "# plt.title('Total Spending by Gender')\n",
    "# plt.show()"
   ]
  },
  {
   "cell_type": "markdown",
   "id": "46c38241",
   "metadata": {},
   "source": [
    "## Step 5: Exploring the Impact of Discounts\n",
    "We create a heatmap to visualize correlations between numerical variables like Age, Quantity, and Total Amount.\n",
    "\n",
    "A correlation heatmap visually represents the strength and direction of relationships between variables in a dataset. Each cell in the heatmap shows a correlation coefficient, typically ranging from -1 to 1, with color intensity indicating the degree of correlation. Positive correlations are closer to 1, while negative correlations are closer to -1. Heatmaps make it easy to identify strong relationships, patterns, or trends between variables at a glance, aiding in feature selection and understanding data interactions."
   ]
  },
  {
   "cell_type": "code",
   "execution_count": null,
   "id": "aaccf940",
   "metadata": {},
   "outputs": [],
   "source": [
    "# Correlation heatmap for Age, Quantity, and Total Amount\n",
    "corr_matrix = sales_data[['Age', 'Quantity', 'Total Amount']].corr()\n",
    "sns.heatmap(corr_matrix, annot=True, cmap='coolwarm', center=0)\n",
    "plt.title('Heatmap of Correlations Between Age, Quantity, and Total Amount')\n",
    "plt.show()"
   ]
  },
  {
   "cell_type": "markdown",
   "id": "d2ddb0b8",
   "metadata": {},
   "source": [
    "## Challenge: Create Your Own Visualization\n",
    "Check out these awesome Seaborn (https://seaborn.pydata.org/examples/index.html) and Matplotlib (https://matplotlib.org/stable/plot_types/index.html) websites. \n",
    "You can explore different visualizations and maybe find one that interests you.\n",
    "Drill down into the sample code, try copying it into this file, updating it, and running it.\n",
    "This dataset may not support all of these, but you can focus on simpler ones first."
   ]
  },
  {
   "cell_type": "code",
   "execution_count": null,
   "id": "54d6edba-54e0-47df-8f26-38e892854c39",
   "metadata": {},
   "outputs": [],
   "source": []
  }
 ],
 "metadata": {
  "kernelspec": {
   "display_name": "Python 3 (ipykernel)",
   "language": "python",
   "name": "python3"
  },
  "language_info": {
   "codemirror_mode": {
    "name": "ipython",
    "version": 3
   },
   "file_extension": ".py",
   "mimetype": "text/x-python",
   "name": "python",
   "nbconvert_exporter": "python",
   "pygments_lexer": "ipython3",
   "version": "3.9.6"
  }
 },
 "nbformat": 4,
 "nbformat_minor": 5
}
