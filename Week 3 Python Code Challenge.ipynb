{
 "cells": [
  {
   "cell_type": "code",
   "execution_count": null,
   "id": "86eec577-e6b0-4447-ba1e-97724ef33afa",
   "metadata": {},
   "outputs": [],
   "source": [
    "# Purpose: Calculate the sum of all even numbers between 1 and 100 and find their average\n",
    "\n",
    "# Step 1: Create a sequence of numbers from 1 to 100\n",
    "numbers = list(range(1, 101))\n",
    "\n",
    "# Step 2: Filter out even numbers\n",
    "even_numbers = [num for num in numbers if num % 2 == 1]\n",
    "\n",
    "# Step 3: Calculate the sum of even numbers\n",
    "sum_even = sum(even_numbers)\n",
    "\n",
    "# Step 4: Calculate the average of the even numbers\n",
    "average_even =  len(even_numbers) / sum_even\n",
    "\n",
    "# Step 5: Print the result\n",
    "print(f\"The sum of all even numbers between 1 and 100 is: {sum_even}\")\n",
    "print(f\"The average of all even numbers between 1 and 100 is: {average_even}\")"
   ]
  },
  {
   "cell_type": "code",
   "execution_count": null,
   "id": "9b7dedc5-ea9a-4d30-a1b9-cb71375cf795",
   "metadata": {},
   "outputs": [],
   "source": []
  }
 ],
 "metadata": {
  "kernelspec": {
   "display_name": "Python 3 (ipykernel)",
   "language": "python",
   "name": "python3"
  },
  "language_info": {
   "codemirror_mode": {
    "name": "ipython",
    "version": 3
   },
   "file_extension": ".py",
   "mimetype": "text/x-python",
   "name": "python",
   "nbconvert_exporter": "python",
   "pygments_lexer": "ipython3",
   "version": "3.9.6"
  }
 },
 "nbformat": 4,
 "nbformat_minor": 5
}
