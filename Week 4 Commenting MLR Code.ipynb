{
 "cells": [
  {
   "cell_type": "code",
   "execution_count": null,
   "id": "371b2790-6e68-4563-adea-acacab04d143",
   "metadata": {},
   "outputs": [],
   "source": [
    "# Review each command below and add a detailed comment. When structured in a small block, you can comment the block, but be sure to not forgo detail.\n",
    "\n",
    "import pandas as pd\n",
    "from sklearn.linear_model import LinearRegression\n",
    "from sklearn.model_selection import train_test_split\n",
    "from sklearn.metrics import mean_squared_error, r2_score\n",
    "import matplotlib.pyplot as plt\n",
    "import seaborn as sns\n",
    "\n",
    "data = {\n",
    "    'Region': ['North', 'South', 'East', 'West', 'North', 'South', 'East', 'West', 'North', 'South', 'East', 'West', 'North', 'South', 'East', 'West'],\n",
    "    'Dealership_Size': [2500, 3000, 1800, 2200, 2700, 3200, 1900, 2300, 2600, 3100, 2000, 2400, 2800, 3300, 2100, 2500],\n",
    "    'Marketing_Spend': [50000, 60000, 45000, 48000, 52000, 62000, 47000, 49000, 51000, 61000, 46000, 50000, 53000, 63000, 48000, 52000],\n",
    "    'Customer_Interactions': [300, 400, 280, 310, 330, 420, 290, 320, 350, 430, 300, 340, 370, 440, 310, 360],\n",
    "    'Sales': [120, 150, 100, 110, 130, 160, 105, 115, 125, 155, 110, 120, 140, 170, 115, 130]\n",
    "}\n",
    "\n",
    "df = pd.DataFrame(data)\n",
    "print(df)\n",
    "\n",
    "print(\"Missing values in each column:\")\n",
    "print(df.isnull().sum())\n",
    "\n",
    "df['Customer_Interactions'] = df['Customer_Interactions'].fillna(df['Customer_Interactions'].mean())\n",
    "df = df.drop_duplicates()\n",
    "df['Marketing_Spend'] = df['Marketing_Spend'].astype(float)\n",
    "\n",
    "threshold = df['Sales'].quantile(0.95)\n",
    "df = df[df['Sales'] < threshold]\n",
    "\n",
    "df = pd.get_dummies(df, columns=['Region'], drop_first=True)\n",
    "\n",
    "X = df[['Dealership_Size', 'Marketing_Spend', 'Customer_Interactions', 'Region_North', 'Region_West', 'Region_South']]\n",
    "y = df['Sales']\n",
    "\n",
    "X_train, X_test, y_train, y_test = train_test_split(X, y, test_size=0.2, random_state=42)\n",
    "\n",
    "model = LinearRegression()\n",
    "model.fit(X_train, y_train)\n",
    "y_pred = model.predict(X_test)\n",
    "\n",
    "mse = mean_squared_error(y_test, y_pred)\n",
    "r2 = r2_score(y_test, y_pred)\n",
    "\n",
    "print(f'Coefficients: {model.coef_}')\n",
    "print(f'Intercept: {model.intercept_}')\n",
    "print(f'Mean squared error: {mse}')\n",
    "print(f'R-squared value: {r2}')\n"
   ]
  }
 ],
 "metadata": {
  "kernelspec": {
   "display_name": "Python 3 (ipykernel)",
   "language": "python",
   "name": "python3"
  },
  "language_info": {
   "codemirror_mode": {
    "name": "ipython",
    "version": 3
   },
   "file_extension": ".py",
   "mimetype": "text/x-python",
   "name": "python",
   "nbconvert_exporter": "python",
   "pygments_lexer": "ipython3",
   "version": "3.9.6"
  }
 },
 "nbformat": 4,
 "nbformat_minor": 5
}
